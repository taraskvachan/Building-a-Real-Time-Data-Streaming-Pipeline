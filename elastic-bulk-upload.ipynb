{
 "cells": [
  {
   "cell_type": "code",
   "execution_count": null,
   "metadata": {
    "_cell_guid": "b1076dfc-b9ad-4769-8c92-a6c4dae69d19",
    "_uuid": "8f2839f25d086af736a60e9eeb907d3b93b6e0e5",
    "execution": {
     "iopub.execute_input": "2025-02-20T16:53:11.998506Z",
     "iopub.status.busy": "2025-02-20T16:53:11.998331Z",
     "iopub.status.idle": "2025-02-20T16:53:17.338168Z",
     "shell.execute_reply": "2025-02-20T16:53:17.337281Z",
     "shell.execute_reply.started": "2025-02-20T16:53:11.998489Z"
    },
    "trusted": true
   },
   "outputs": [],
   "source": [
    "!pip install elasticsearch"
   ]
  },
  {
   "cell_type": "code",
   "execution_count": null,
   "metadata": {
    "execution": {
     "iopub.execute_input": "2025-02-20T17:13:40.025783Z",
     "iopub.status.busy": "2025-02-20T17:13:40.025473Z",
     "iopub.status.idle": "2025-02-20T17:15:24.114816Z",
     "shell.execute_reply": "2025-02-20T17:15:24.114150Z",
     "shell.execute_reply.started": "2025-02-20T17:13:40.025759Z"
    },
    "trusted": true
   },
   "outputs": [],
   "source": [
    "from elasticsearch import Elasticsearch, helpers\n",
    "import json\n",
    "\n",
    "# Connect to Elasticsearch Cloud\n",
    "client = Elasticsearch(\n",
    "    '<YOUR_ENDPOINT>',\n",
    "    verify_certs=False, # Disable certificate verification\n",
    "    basic_auth=('<username>', '<password>')\n",
    ")\n",
    "\n",
    "# Open the file and read json object\n",
    "with open(\"/kaggle/input/yelp-dataset/yelp_academic_dataset_business.json\") as f:\n",
    "    data = []\n",
    "    for line in f:\n",
    "        try:\n",
    "            doc = json.loads(line.strip())\n",
    "            data.append(doc)\n",
    "        except json.JSONDecodeError as e:\n",
    "            print(f\"Error decoding JSON: {e}\")\n",
    "\n",
    "    helpers.bulk(client, data, index='businesses') # Upload the data in bulk\n",
    "    "
   ]
  }
 ],
 "metadata": {
  "kaggle": {
   "accelerator": "none",
   "dataSources": [
    {
     "datasetId": 10100,
     "sourceId": 3316532,
     "sourceType": "datasetVersion"
    }
   ],
   "dockerImageVersionId": 30886,
   "isGpuEnabled": false,
   "isInternetEnabled": true,
   "language": "python",
   "sourceType": "notebook"
  },
  "kernelspec": {
   "display_name": "Python 3",
   "language": "python",
   "name": "python3"
  },
  "language_info": {
   "codemirror_mode": {
    "name": "ipython",
    "version": 3
   },
   "file_extension": ".py",
   "mimetype": "text/x-python",
   "name": "python",
   "nbconvert_exporter": "python",
   "pygments_lexer": "ipython3",
   "version": "3.10.12"
  }
 },
 "nbformat": 4,
 "nbformat_minor": 4
}
